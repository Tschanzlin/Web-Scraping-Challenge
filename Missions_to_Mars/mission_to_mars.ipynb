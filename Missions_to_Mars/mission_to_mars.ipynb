{
 "cells": [
  {
   "cell_type": "code",
   "execution_count": 1,
   "metadata": {},
   "outputs": [
    {
     "name": "stdout",
     "output_type": "stream",
     "text": [
      "Requirement already satisfied: splinter in c:\\users\\todds\\anaconda3\\envs\\pythondata\\lib\\site-packages (0.14.0)\n",
      "Requirement already satisfied: selenium>=3.141.0 in c:\\users\\todds\\anaconda3\\envs\\pythondata\\lib\\site-packages (from splinter) (3.141.0)\n",
      "Requirement already satisfied: six in c:\\users\\todds\\anaconda3\\envs\\pythondata\\lib\\site-packages (from splinter) (1.15.0)\n",
      "Requirement already satisfied: urllib3 in c:\\users\\todds\\anaconda3\\envs\\pythondata\\lib\\site-packages (from selenium>=3.141.0->splinter) (1.25.9)\n"
     ]
    }
   ],
   "source": [
    "# Import Dependencies\n",
    "! pip install splinter\n",
    "\n",
    "import pandas as pd\n",
    "\n",
    "from splinter import Browser\n",
    "from bs4 import BeautifulSoup\n",
    "import requests\n",
    "\n",
    "import pprint"
   ]
  },
  {
   "cell_type": "code",
   "execution_count": 2,
   "metadata": {},
   "outputs": [
    {
     "name": "stdout",
     "output_type": "stream",
     "text": [
      "NASA Readies Perseverance Mars Rover's Earthly Twin\n",
      "Did you know NASA's next Mars rover has a nearly identical sibling on Earth for testing? Even better, it's about to roll for the first time through a replica Martian landscape.\n"
     ]
    }
   ],
   "source": [
    "## Step 1A:  Scrape latest news title and paragraph text from NASA Mars News Site (Beautiful Soup)\n",
    "\n",
    "# Set URL and retrieve page\n",
    "url = \"http://mars.nasa.gov/news/\"\n",
    "response = requests.get(url)\n",
    "\n",
    "# Create Soup object and examine results\n",
    "soup = BeautifulSoup(response.text, \"html.parser\")\n",
    "# print(soup.prettify())\n",
    "\n",
    "#Scrape content\n",
    "news_title = soup.body.find(\"div\", class_=\"content_title\").a.text.strip()\n",
    "news_para = soup.body.find(\"div\", class_=\"rollover_description_inner\").text.strip()\n",
    "\n",
    "print(news_title)\n",
    "print(news_para)"
   ]
  },
  {
   "cell_type": "code",
   "execution_count": 3,
   "metadata": {},
   "outputs": [
    {
     "name": "stdout",
     "output_type": "stream",
     "text": [
      "https://www.jpl.nasa.gov/spaceimages/images/largesize/PIA16029_hires.jpg\n"
     ]
    }
   ],
   "source": [
    "## Step 1B:  Find featured image (Splinter)\n",
    "\n",
    "# set path for chromedriver\n",
    "executable_path = {'executable_path': 'chromedriver.exe'}\n",
    "browser = Browser('chrome', **executable_path, headless=False)\n",
    "\n",
    "# Set URL and retrieve page\n",
    "url1 = \"https://www.jpl.nasa.gov/spaceimages/\"\n",
    "browser.visit(url1)\n",
    "\n",
    "# Navigate to large image\n",
    "browser.links.find_by_partial_text(\"FULL IMAGE\").click()\n",
    "browser.links.find_by_partial_text(\"more info\").click()\n",
    "browser.find_by_tag(\"figure.lede\").first.click()\n",
    "\n",
    "image_url = browser.url\n",
    "print(image_url)\n",
    "\n"
   ]
  },
  {
   "cell_type": "code",
   "execution_count": 4,
   "metadata": {},
   "outputs": [
    {
     "data": {
      "text/plain": [
       "[                      0                              1\n",
       " 0  Equatorial Diameter:                       6,792 km\n",
       " 1       Polar Diameter:                       6,752 km\n",
       " 2                 Mass:  6.39 × 10^23 kg (0.11 Earths)\n",
       " 3                Moons:            2 (Phobos & Deimos)\n",
       " 4       Orbit Distance:       227,943,824 km (1.38 AU)\n",
       " 5         Orbit Period:           687 days (1.9 years)\n",
       " 6  Surface Temperature:                   -87 to -5 °C\n",
       " 7         First Record:              2nd millennium BC\n",
       " 8          Recorded By:           Egyptian astronomers,\n",
       "   Mars - Earth Comparison             Mars            Earth\n",
       " 0               Diameter:         6,779 km        12,742 km\n",
       " 1                   Mass:  6.39 × 10^23 kg  5.97 × 10^24 kg\n",
       " 2                  Moons:                2                1\n",
       " 3      Distance from Sun:   227,943,824 km   149,598,262 km\n",
       " 4         Length of Year:   687 Earth days      365.24 days\n",
       " 5            Temperature:     -87 to -5 °C      -88 to 58°C,\n",
       "                       0                              1\n",
       " 0  Equatorial Diameter:                       6,792 km\n",
       " 1       Polar Diameter:                       6,752 km\n",
       " 2                 Mass:  6.39 × 10^23 kg (0.11 Earths)\n",
       " 3                Moons:            2 (Phobos & Deimos)\n",
       " 4       Orbit Distance:       227,943,824 km (1.38 AU)\n",
       " 5         Orbit Period:           687 days (1.9 years)\n",
       " 6  Surface Temperature:                   -87 to -5 °C\n",
       " 7         First Record:              2nd millennium BC\n",
       " 8          Recorded By:           Egyptian astronomers]"
      ]
     },
     "execution_count": 4,
     "metadata": {},
     "output_type": "execute_result"
    }
   ],
   "source": [
    "## Step 1C:  Scrape facts about Mars (Pandas)\n",
    "\n",
    "# Set URL and retrieve page\n",
    "url2 = \"http://space-facts.com/mars/\"\n",
    "response = requests.get(url)\n",
    "\n",
    "mars_tables = pd.read_html(url2)\n",
    "mars_tables"
   ]
  },
  {
   "cell_type": "code",
   "execution_count": 5,
   "metadata": {},
   "outputs": [
    {
     "data": {
      "text/html": [
       "<style  type=\"text/css\" >\n",
       "</style><table id=\"T_1aa3fa62_f142_11ea_85be_9cebe8e79ff6\" ><thead>    <tr>        <th class=\"col_heading level0 col0\" >Planet Profile</th>        <th class=\"col_heading level0 col1\" >Planet Data</th>    </tr></thead><tbody>\n",
       "                <tr>\n",
       "                                <td id=\"T_1aa3fa62_f142_11ea_85be_9cebe8e79ff6row0_col0\" class=\"data row0 col0\" >Equatorial Diameter:</td>\n",
       "                        <td id=\"T_1aa3fa62_f142_11ea_85be_9cebe8e79ff6row0_col1\" class=\"data row0 col1\" >6,792 km</td>\n",
       "            </tr>\n",
       "            <tr>\n",
       "                                <td id=\"T_1aa3fa62_f142_11ea_85be_9cebe8e79ff6row1_col0\" class=\"data row1 col0\" >Polar Diameter:</td>\n",
       "                        <td id=\"T_1aa3fa62_f142_11ea_85be_9cebe8e79ff6row1_col1\" class=\"data row1 col1\" >6,752 km</td>\n",
       "            </tr>\n",
       "            <tr>\n",
       "                                <td id=\"T_1aa3fa62_f142_11ea_85be_9cebe8e79ff6row2_col0\" class=\"data row2 col0\" >Mass:</td>\n",
       "                        <td id=\"T_1aa3fa62_f142_11ea_85be_9cebe8e79ff6row2_col1\" class=\"data row2 col1\" >6.39 × 10^23 kg (0.11 Earths)</td>\n",
       "            </tr>\n",
       "            <tr>\n",
       "                                <td id=\"T_1aa3fa62_f142_11ea_85be_9cebe8e79ff6row3_col0\" class=\"data row3 col0\" >Moons:</td>\n",
       "                        <td id=\"T_1aa3fa62_f142_11ea_85be_9cebe8e79ff6row3_col1\" class=\"data row3 col1\" >2 (Phobos & Deimos)</td>\n",
       "            </tr>\n",
       "            <tr>\n",
       "                                <td id=\"T_1aa3fa62_f142_11ea_85be_9cebe8e79ff6row4_col0\" class=\"data row4 col0\" >Orbit Distance:</td>\n",
       "                        <td id=\"T_1aa3fa62_f142_11ea_85be_9cebe8e79ff6row4_col1\" class=\"data row4 col1\" >227,943,824 km (1.38 AU)</td>\n",
       "            </tr>\n",
       "            <tr>\n",
       "                                <td id=\"T_1aa3fa62_f142_11ea_85be_9cebe8e79ff6row5_col0\" class=\"data row5 col0\" >Orbit Period:</td>\n",
       "                        <td id=\"T_1aa3fa62_f142_11ea_85be_9cebe8e79ff6row5_col1\" class=\"data row5 col1\" >687 days (1.9 years)</td>\n",
       "            </tr>\n",
       "            <tr>\n",
       "                                <td id=\"T_1aa3fa62_f142_11ea_85be_9cebe8e79ff6row6_col0\" class=\"data row6 col0\" >Surface Temperature:</td>\n",
       "                        <td id=\"T_1aa3fa62_f142_11ea_85be_9cebe8e79ff6row6_col1\" class=\"data row6 col1\" >-87 to -5 °C</td>\n",
       "            </tr>\n",
       "            <tr>\n",
       "                                <td id=\"T_1aa3fa62_f142_11ea_85be_9cebe8e79ff6row7_col0\" class=\"data row7 col0\" >First Record:</td>\n",
       "                        <td id=\"T_1aa3fa62_f142_11ea_85be_9cebe8e79ff6row7_col1\" class=\"data row7 col1\" >2nd millennium BC</td>\n",
       "            </tr>\n",
       "            <tr>\n",
       "                                <td id=\"T_1aa3fa62_f142_11ea_85be_9cebe8e79ff6row8_col0\" class=\"data row8 col0\" >Recorded By:</td>\n",
       "                        <td id=\"T_1aa3fa62_f142_11ea_85be_9cebe8e79ff6row8_col1\" class=\"data row8 col1\" >Egyptian astronomers</td>\n",
       "            </tr>\n",
       "    </tbody></table>"
      ],
      "text/plain": [
       "<pandas.io.formats.style.Styler at 0x2f17e97bdd8>"
      ]
     },
     "execution_count": 5,
     "metadata": {},
     "output_type": "execute_result"
    }
   ],
   "source": [
    "##Step 1C (cont): Separate tables and clean -- mars_facts\n",
    "mars_facts = mars_tables[0]\n",
    "mars_facts.columns = [\"Planet Profile\", \"Planet Data\"]\n",
    "mars_facts.style.hide_index()"
   ]
  },
  {
   "cell_type": "code",
   "execution_count": 6,
   "metadata": {},
   "outputs": [
    {
     "data": {
      "text/html": [
       "<style  type=\"text/css\" >\n",
       "</style><table id=\"T_2afc6358_f142_11ea_86f7_9cebe8e79ff6\" ><thead>    <tr>        <th class=\"col_heading level0 col0\" >Mars-Earth Comparison</th>        <th class=\"col_heading level0 col1\" >Mars</th>        <th class=\"col_heading level0 col2\" >Earth</th>    </tr></thead><tbody>\n",
       "                <tr>\n",
       "                                <td id=\"T_2afc6358_f142_11ea_86f7_9cebe8e79ff6row0_col0\" class=\"data row0 col0\" >Diameter:</td>\n",
       "                        <td id=\"T_2afc6358_f142_11ea_86f7_9cebe8e79ff6row0_col1\" class=\"data row0 col1\" >6,779 km</td>\n",
       "                        <td id=\"T_2afc6358_f142_11ea_86f7_9cebe8e79ff6row0_col2\" class=\"data row0 col2\" >12,742 km</td>\n",
       "            </tr>\n",
       "            <tr>\n",
       "                                <td id=\"T_2afc6358_f142_11ea_86f7_9cebe8e79ff6row1_col0\" class=\"data row1 col0\" >Mass:</td>\n",
       "                        <td id=\"T_2afc6358_f142_11ea_86f7_9cebe8e79ff6row1_col1\" class=\"data row1 col1\" >6.39 × 10^23 kg</td>\n",
       "                        <td id=\"T_2afc6358_f142_11ea_86f7_9cebe8e79ff6row1_col2\" class=\"data row1 col2\" >5.97 × 10^24 kg</td>\n",
       "            </tr>\n",
       "            <tr>\n",
       "                                <td id=\"T_2afc6358_f142_11ea_86f7_9cebe8e79ff6row2_col0\" class=\"data row2 col0\" >Moons:</td>\n",
       "                        <td id=\"T_2afc6358_f142_11ea_86f7_9cebe8e79ff6row2_col1\" class=\"data row2 col1\" >2</td>\n",
       "                        <td id=\"T_2afc6358_f142_11ea_86f7_9cebe8e79ff6row2_col2\" class=\"data row2 col2\" >1</td>\n",
       "            </tr>\n",
       "            <tr>\n",
       "                                <td id=\"T_2afc6358_f142_11ea_86f7_9cebe8e79ff6row3_col0\" class=\"data row3 col0\" >Distance from Sun:</td>\n",
       "                        <td id=\"T_2afc6358_f142_11ea_86f7_9cebe8e79ff6row3_col1\" class=\"data row3 col1\" >227,943,824 km</td>\n",
       "                        <td id=\"T_2afc6358_f142_11ea_86f7_9cebe8e79ff6row3_col2\" class=\"data row3 col2\" >149,598,262 km</td>\n",
       "            </tr>\n",
       "            <tr>\n",
       "                                <td id=\"T_2afc6358_f142_11ea_86f7_9cebe8e79ff6row4_col0\" class=\"data row4 col0\" >Length of Year:</td>\n",
       "                        <td id=\"T_2afc6358_f142_11ea_86f7_9cebe8e79ff6row4_col1\" class=\"data row4 col1\" >687 Earth days</td>\n",
       "                        <td id=\"T_2afc6358_f142_11ea_86f7_9cebe8e79ff6row4_col2\" class=\"data row4 col2\" >365.24 days</td>\n",
       "            </tr>\n",
       "            <tr>\n",
       "                                <td id=\"T_2afc6358_f142_11ea_86f7_9cebe8e79ff6row5_col0\" class=\"data row5 col0\" >Temperature:</td>\n",
       "                        <td id=\"T_2afc6358_f142_11ea_86f7_9cebe8e79ff6row5_col1\" class=\"data row5 col1\" >-87 to -5 °C</td>\n",
       "                        <td id=\"T_2afc6358_f142_11ea_86f7_9cebe8e79ff6row5_col2\" class=\"data row5 col2\" >-88 to 58°C</td>\n",
       "            </tr>\n",
       "    </tbody></table>"
      ],
      "text/plain": [
       "<pandas.io.formats.style.Styler at 0x2f17e902c50>"
      ]
     },
     "execution_count": 6,
     "metadata": {},
     "output_type": "execute_result"
    }
   ],
   "source": [
    "##Step 1C (cont): Separate tables and clean -- mars_earth\n",
    "mars_earth = mars_tables[1]\n",
    "mars_earth.columns = [\"Mars-Earth Comparison\", \"Mars\", \"Earth\"]\n",
    "mars_earth.style.hide_index()"
   ]
  },
  {
   "cell_type": "code",
   "execution_count": 7,
   "metadata": {},
   "outputs": [],
   "source": [
    "## Step 1C (cont): Convert dat to HTML strings\n",
    "facts_html = mars_facts.to_html()\n",
    "compare_html = mars_earth.to_html()"
   ]
  },
  {
   "cell_type": "code",
   "execution_count": 10,
   "metadata": {},
   "outputs": [
    {
     "name": "stdout",
     "output_type": "stream",
     "text": [
      "4\n",
      "<div class=\"item\"><a class=\"itemLink product-item\" href=\"/search/map/Mars/Viking/cerberus_enhanced\"><img alt=\"Cerberus Hemisphere Enhanced thumbnail\" class=\"thumb\" src=\"/cache/images/39d3266553462198bd2fbc4d18fbed17_cerberus_enhanced.tif_thumb.png\"/><div class=\"description\"><h3>Cerberus Hemisphere Enhanced</h3></div></a><span class=\"subtitle\" style=\"float:left\">image/tiff 21 MB</span><span class=\"pubDate\" style=\"float:right\"></span><br/><p>Mosaic of the Cerberus hemisphere of Mars projected into point perspective, a view similar to that which one would see from a spacecraft. This mosaic is composed of 104 Viking Orbiter images acquired…</p></div>\n"
     ]
    }
   ],
   "source": [
    "## Step 1D:  Obtain high resolution images for each of Mars' hemispheres\n",
    "\n",
    "# set path for chromedriver\n",
    "executable_path = {'executable_path': 'chromedriver.exe'}\n",
    "browser = Browser('chrome', **executable_path, headless=False)\n",
    "\n",
    "# Set URL, visit page, inspect HTML code\n",
    "url3 = \"https://astrogeology.usgs.gov/search/results?q=hemisphere+enhanced&k1=target&v1=Mars\"\n",
    "response = requests.get(url3)\n",
    "browser.visit(url3)\n",
    "\n",
    "# Create Soup object, grab each hemisphere division  \n",
    "soup = BeautifulSoup(response.text, \"html.parser\")\n",
    "images = soup.find_all(\"div\", class_=\"item\")\n",
    "\n",
    "# Print and review image \n",
    "print(len(images))\n",
    "print(images[0])\n"
   ]
  },
  {
   "cell_type": "code",
   "execution_count": 11,
   "metadata": {},
   "outputs": [
    {
     "name": "stdout",
     "output_type": "stream",
     "text": [
      "Cerberus Hemisphere Enhanced\n",
      "https://astropedia.astrogeology.usgs.gov/download/Mars/Viking/cerberus_enhanced.tif/full.jpg\n",
      "-------------------------------------------------------------------------------------------------\n",
      "Schiaparelli Hemisphere Enhanced\n",
      "https://astropedia.astrogeology.usgs.gov/download/Mars/Viking/schiaparelli_enhanced.tif/full.jpg\n",
      "-------------------------------------------------------------------------------------------------\n",
      "Syrtis Major Hemisphere Enhanced\n",
      "https://astropedia.astrogeology.usgs.gov/download/Mars/Viking/syrtis_major_enhanced.tif/full.jpg\n",
      "-------------------------------------------------------------------------------------------------\n",
      "Valles Marineris Hemisphere Enhanced\n",
      "https://astropedia.astrogeology.usgs.gov/download/Mars/Viking/valles_marineris_enhanced.tif/full.jpg\n",
      "-------------------------------------------------------------------------------------------------\n",
      "[{'image_url': 'https://astropedia.astrogeology.usgs.gov/download/Mars/Viking/cerberus_enhanced.tif/full.jpg',\n",
      "  'title': 'Cerberus Hemisphere Enhanced'},\n",
      " {'image_url': 'https://astropedia.astrogeology.usgs.gov/download/Mars/Viking/schiaparelli_enhanced.tif/full.jpg',\n",
      "  'title': 'Schiaparelli Hemisphere Enhanced'},\n",
      " {'image_url': 'https://astropedia.astrogeology.usgs.gov/download/Mars/Viking/syrtis_major_enhanced.tif/full.jpg',\n",
      "  'title': 'Syrtis Major Hemisphere Enhanced'},\n",
      " {'image_url': 'https://astropedia.astrogeology.usgs.gov/download/Mars/Viking/valles_marineris_enhanced.tif/full.jpg',\n",
      "  'title': 'Valles Marineris Hemisphere Enhanced'}]\n"
     ]
    }
   ],
   "source": [
    "# Loop through each soup object (\"images\"); use splinter to navigate to full res image URL; store URL and name \n",
    "# NOTE:  because HREF stored a partial href, it will be appended the base USGS url\n",
    "\n",
    "hemi_title =[]\n",
    "hemi_url =[]\n",
    "hemisphere_image_url=[]\n",
    "\n",
    "for image in images:\n",
    "    \n",
    "    # Extract title and append to hemi_title\n",
    "    title = image.h3.text\n",
    "    hemi_title.append(title)\n",
    "    \n",
    "    #Extract href from image and append to base URL to get to image file\n",
    "    base_url = \"https://astrogeology.usgs.gov\"\n",
    "    full_url = base_url+image.a[\"href\"]\n",
    "\n",
    "    # Create soup object and extract full image URL; append to hemi_url\n",
    "    response1 = requests.get(full_url)\n",
    "    soup = BeautifulSoup(response1.text, \"html.parser\")\n",
    "    image_url = soup.find(\"div\", class_=\"downloads\").a[\"href\"]\n",
    "    hemi_url.append(image_url)\n",
    "    \n",
    "    # Create Hemisphere Image list\n",
    "    hemisphere_image_url.append({\"title\": title, \"image_url\": image_url})\n",
    "      \n",
    "    print(title)\n",
    "    print(image_url)\n",
    "    print(\"-------------------------------------------------------------------------------------------------\")\n",
    "    \n",
    "pprint.pprint(hemisphere_image_url)"
   ]
  },
  {
   "cell_type": "code",
   "execution_count": 9,
   "metadata": {},
   "outputs": [
    {
     "ename": "AttributeError",
     "evalue": "ResultSet object has no attribute 'h3'. You're probably treating a list of elements like a single element. Did you call find_all() when you meant to call find()?",
     "output_type": "error",
     "traceback": [
      "\u001b[1;31m---------------------------------------------------------------------------\u001b[0m",
      "\u001b[1;31mAttributeError\u001b[0m                            Traceback (most recent call last)",
      "\u001b[1;32m<ipython-input-9-37d3b579da75>\u001b[0m in \u001b[0;36m<module>\u001b[1;34m\u001b[0m\n\u001b[0;32m     18\u001b[0m \u001b[1;31m#images = soup.find_all(\"div\", class_=\"item\")\u001b[0m\u001b[1;33m\u001b[0m\u001b[1;33m\u001b[0m\u001b[1;33m\u001b[0m\u001b[0m\n\u001b[0;32m     19\u001b[0m \u001b[1;33m\u001b[0m\u001b[0m\n\u001b[1;32m---> 20\u001b[1;33m \u001b[0mtitles\u001b[0m \u001b[1;33m=\u001b[0m \u001b[0msoup\u001b[0m\u001b[1;33m.\u001b[0m\u001b[0mfind_all\u001b[0m\u001b[1;33m(\u001b[0m\u001b[1;34m\"div\"\u001b[0m\u001b[1;33m,\u001b[0m \u001b[0mclass_\u001b[0m\u001b[1;33m=\u001b[0m\u001b[1;34m\"item\"\u001b[0m\u001b[1;33m)\u001b[0m\u001b[1;33m.\u001b[0m\u001b[0mh3\u001b[0m\u001b[1;33m.\u001b[0m\u001b[0mtext\u001b[0m\u001b[1;33m\u001b[0m\u001b[1;33m\u001b[0m\u001b[0m\n\u001b[0m",
      "\u001b[1;32m~\\anaconda3\\envs\\PythonData\\lib\\site-packages\\bs4\\element.py\u001b[0m in \u001b[0;36m__getattr__\u001b[1;34m(self, key)\u001b[0m\n\u001b[0;32m   2159\u001b[0m         \u001b[1;34m\"\"\"Raise a helpful exception to explain a common code fix.\"\"\"\u001b[0m\u001b[1;33m\u001b[0m\u001b[1;33m\u001b[0m\u001b[0m\n\u001b[0;32m   2160\u001b[0m         raise AttributeError(\n\u001b[1;32m-> 2161\u001b[1;33m             \u001b[1;34m\"ResultSet object has no attribute '%s'. You're probably treating a list of elements like a single element. Did you call find_all() when you meant to call find()?\"\u001b[0m \u001b[1;33m%\u001b[0m \u001b[0mkey\u001b[0m\u001b[1;33m\u001b[0m\u001b[1;33m\u001b[0m\u001b[0m\n\u001b[0m\u001b[0;32m   2162\u001b[0m         )\n",
      "\u001b[1;31mAttributeError\u001b[0m: ResultSet object has no attribute 'h3'. You're probably treating a list of elements like a single element. Did you call find_all() when you meant to call find()?"
     ]
    }
   ],
   "source": [
    "# Alternative search for this info\n",
    "\n",
    "# Create dictionary\n",
    "hemisphere_image_url={}\n",
    "titles =[]\n",
    "\n",
    "# set path for chromedriver\n",
    "executable_path = {'executable_path': 'chromedriver.exe'}\n",
    "browser = Browser('chrome', **executable_path, headless=False)\n",
    "\n",
    "# Set URL, visit page, inspect HTML code\n",
    "url3 = \"https://astrogeology.usgs.gov/search/results?q=hemisphere+enhanced&k1=target&v1=Mars\"\n",
    "response = requests.get(url3)\n",
    "browser.visit(url3)\n",
    "\n",
    "# Create Soup object, grab each hemisphere division  \n",
    "soup = BeautifulSoup(response.text, \"html.parser\")\n",
    "#images = soup.find_all(\"div\", class_=\"item\")\n",
    "\n",
    "titles = soup.find_all(\"div\", class_=\"item\").h3.text"
   ]
  },
  {
   "cell_type": "code",
   "execution_count": null,
   "metadata": {},
   "outputs": [],
   "source": []
  },
  {
   "cell_type": "code",
   "execution_count": null,
   "metadata": {},
   "outputs": [],
   "source": []
  }
 ],
 "metadata": {
  "kernelspec": {
   "display_name": "Python 3",
   "language": "python",
   "name": "python3"
  },
  "language_info": {
   "codemirror_mode": {
    "name": "ipython",
    "version": 3
   },
   "file_extension": ".py",
   "mimetype": "text/x-python",
   "name": "python",
   "nbconvert_exporter": "python",
   "pygments_lexer": "ipython3",
   "version": "3.6.10"
  }
 },
 "nbformat": 4,
 "nbformat_minor": 4
}
